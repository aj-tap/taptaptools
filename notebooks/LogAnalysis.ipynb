{
 "cells": [
  {
   "cell_type": "markdown",
   "id": "8b9b7355-80e7-430f-879d-c64b2a6c7dfc",
   "metadata": {},
   "source": [
    "# 🔍 Log Analysis with Musashi LogAnalyzer \n",
    "This notebook runs `LogAnalyzer` to process EVTX, CSV, JSON logs, extract Sigma rules, and detect suspicious activity\n"
   ]
  },
  {
   "cell_type": "markdown",
   "id": "8541c2e9-21f2-4881-bbc3-7b8fe1040c54",
   "metadata": {},
   "source": [
    "## Libraries"
   ]
  },
  {
   "cell_type": "code",
   "execution_count": null,
   "id": "0632a3d8-23fc-45db-a04c-297485e3a604",
   "metadata": {},
   "outputs": [],
   "source": [
    "import sys\n",
    "import os\n",
    "sys.path.insert(0, os.path.abspath(os.path.join(os.getcwd(), '..')))\n",
    "from taptap.core.musashi import LogAnalyzer"
   ]
  },
  {
   "cell_type": "markdown",
   "id": "8881eec1-b93d-4f7e-9475-a5cec457bcc0",
   "metadata": {},
   "source": [
    "## 📂 Define Paths and Setup"
   ]
  },
  {
   "cell_type": "code",
   "execution_count": null,
   "id": "f15566d6-b3a7-4194-8502-7e36ab7002aa",
   "metadata": {},
   "outputs": [],
   "source": [
    "log_file = '../tests/sample.evtx'\n",
    "output_dir = '../tests/output'\n",
    "\n",
    "# Ensure output directory exists\n",
    "os.makedirs(output_dir, exist_ok=True)\n",
    "print(f'Log File: {log_file}')\n",
    "print(f'Output Directory: {output_dir}')            "
   ]
  },
  {
   "cell_type": "markdown",
   "id": "6af58e0d-f93c-483d-8bce-f6aec8607f66",
   "metadata": {},
   "source": [
    " ## 🚀 Initialize the LogAnalyzer"
   ]
  },
  {
   "cell_type": "code",
   "execution_count": null,
   "id": "1051f97a-bfb9-4693-a456-580e7526b497",
   "metadata": {},
   "outputs": [],
   "source": [
    "log_analyzer = LogAnalyzer(log_file, output_dir, 'winevtx')"
   ]
  },
  {
   "cell_type": "code",
   "execution_count": null,
   "id": "fa431e71-1af1-4355-9a0d-ce30add532ac",
   "metadata": {},
   "outputs": [],
   "source": [
    "log_analyzer.execute()"
   ]
  },
  {
   "cell_type": "markdown",
   "id": "55bb2e3d-b664-46c4-bc08-e6f7ba1921a8",
   "metadata": {},
   "source": [
    "## 📊 Analysis of Results"
   ]
  },
  {
   "cell_type": "code",
   "execution_count": null,
   "id": "766c133f-5a79-45f0-9080-2e23db42a07a",
   "metadata": {},
   "outputs": [],
   "source": [
    "log_analyzer.df_results.head()"
   ]
  }
 ],
 "metadata": {
  "kernelspec": {
   "display_name": "Python 3 (ipykernel)",
   "language": "python",
   "name": "python3"
  },
  "language_info": {
   "codemirror_mode": {
    "name": "ipython",
    "version": 3
   },
   "file_extension": ".py",
   "mimetype": "text/x-python",
   "name": "python",
   "nbconvert_exporter": "python",
   "pygments_lexer": "ipython3",
   "version": "3.11.2"
  }
 },
 "nbformat": 4,
 "nbformat_minor": 5
}
